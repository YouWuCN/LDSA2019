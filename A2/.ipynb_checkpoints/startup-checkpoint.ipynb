{
 "cells": [
  {
   "cell_type": "code",
   "execution_count": 66,
   "metadata": {},
   "outputs": [],
   "source": [
    "from pyspark.sql import SparkSession\n",
    "\n",
    "# New API\n",
    "spark_session = SparkSession\\\n",
    "        .builder\\\n",
    "        .master(\"spark://192.168.1.153:7077\") \\\n",
    "        .appName(\"YouWuA2\")\\\n",
    "        .config(\"spark.dynamicAllocation.enabled\", True)\\\n",
    "        .config(\"spark.shuffle.service.enabled\", True)\\\n",
    "        .config(\"spark.dynamicAllocation.executorIdleTimeout\",\"30s\")\\\n",
    "        .config(\"spark.executor.cores\",4)\\\n",
    "        .getOrCreate()\n",
    "\n",
    "# Old API (RDD)\n",
    "spark_context = spark_session.sparkContext"
   ]
  },
  {
   "cell_type": "code",
   "execution_count": 67,
   "metadata": {},
   "outputs": [],
   "source": [
    "textEn = spark_context.textFile(\"hdfs://192.168.1.153:9000//europarl/europarl-v7.sv-en.en\").cache()"
   ]
  },
  {
   "cell_type": "code",
   "execution_count": 68,
   "metadata": {},
   "outputs": [
    {
     "data": {
      "text/plain": [
       "1862234"
      ]
     },
     "execution_count": 68,
     "metadata": {},
     "output_type": "execute_result"
    }
   ],
   "source": [
    "textEn.count()"
   ]
  },
  {
   "cell_type": "code",
   "execution_count": 69,
   "metadata": {},
   "outputs": [
    {
     "data": {
      "text/plain": [
       "2"
      ]
     },
     "execution_count": 69,
     "metadata": {},
     "output_type": "execute_result"
    }
   ],
   "source": [
    "textEn.getNumPartitions()"
   ]
  },
  {
   "cell_type": "code",
   "execution_count": 70,
   "metadata": {},
   "outputs": [],
   "source": [
    "textSv = spark_context.textFile(\"hdfs://192.168.1.153:9000//europarl/europarl-v7.sv-en.sv\").cache()"
   ]
  },
  {
   "cell_type": "code",
   "execution_count": 71,
   "metadata": {},
   "outputs": [
    {
     "data": {
      "text/plain": [
       "1862234"
      ]
     },
     "execution_count": 71,
     "metadata": {},
     "output_type": "execute_result"
    }
   ],
   "source": [
    "textSv.count()"
   ]
  },
  {
   "cell_type": "code",
   "execution_count": 72,
   "metadata": {},
   "outputs": [
    {
     "data": {
      "text/plain": [
       "3"
      ]
     },
     "execution_count": 72,
     "metadata": {},
     "output_type": "execute_result"
    }
   ],
   "source": [
    "textSv.getNumPartitions()"
   ]
  },
  {
   "cell_type": "code",
   "execution_count": 73,
   "metadata": {},
   "outputs": [],
   "source": [
    "def TokentoLowerCase(lines):\n",
    "    lines = lines.lower()\n",
    "    lines = lines.split()\n",
    "    return lines"
   ]
  },
  {
   "cell_type": "code",
   "execution_count": 74,
   "metadata": {
    "collapsed": true
   },
   "outputs": [
    {
     "data": {
      "text/plain": [
       "[['resumption', 'of', 'the', 'session'],\n",
       " ['i',\n",
       "  'declare',\n",
       "  'resumed',\n",
       "  'the',\n",
       "  'session',\n",
       "  'of',\n",
       "  'the',\n",
       "  'european',\n",
       "  'parliament',\n",
       "  'adjourned',\n",
       "  'on',\n",
       "  'friday',\n",
       "  '17',\n",
       "  'december',\n",
       "  '1999,',\n",
       "  'and',\n",
       "  'i',\n",
       "  'would',\n",
       "  'like',\n",
       "  'once',\n",
       "  'again',\n",
       "  'to',\n",
       "  'wish',\n",
       "  'you',\n",
       "  'a',\n",
       "  'happy',\n",
       "  'new',\n",
       "  'year',\n",
       "  'in',\n",
       "  'the',\n",
       "  'hope',\n",
       "  'that',\n",
       "  'you',\n",
       "  'enjoyed',\n",
       "  'a',\n",
       "  'pleasant',\n",
       "  'festive',\n",
       "  'period.'],\n",
       " ['although,',\n",
       "  'as',\n",
       "  'you',\n",
       "  'will',\n",
       "  'have',\n",
       "  'seen,',\n",
       "  'the',\n",
       "  'dreaded',\n",
       "  \"'millennium\",\n",
       "  \"bug'\",\n",
       "  'failed',\n",
       "  'to',\n",
       "  'materialise,',\n",
       "  'still',\n",
       "  'the',\n",
       "  'people',\n",
       "  'in',\n",
       "  'a',\n",
       "  'number',\n",
       "  'of',\n",
       "  'countries',\n",
       "  'suffered',\n",
       "  'a',\n",
       "  'series',\n",
       "  'of',\n",
       "  'natural',\n",
       "  'disasters',\n",
       "  'that',\n",
       "  'truly',\n",
       "  'were',\n",
       "  'dreadful.'],\n",
       " ['you',\n",
       "  'have',\n",
       "  'requested',\n",
       "  'a',\n",
       "  'debate',\n",
       "  'on',\n",
       "  'this',\n",
       "  'subject',\n",
       "  'in',\n",
       "  'the',\n",
       "  'course',\n",
       "  'of',\n",
       "  'the',\n",
       "  'next',\n",
       "  'few',\n",
       "  'days,',\n",
       "  'during',\n",
       "  'this',\n",
       "  'part-session.'],\n",
       " ['in',\n",
       "  'the',\n",
       "  'meantime,',\n",
       "  'i',\n",
       "  'should',\n",
       "  'like',\n",
       "  'to',\n",
       "  'observe',\n",
       "  'a',\n",
       "  \"minute'\",\n",
       "  's',\n",
       "  'silence,',\n",
       "  'as',\n",
       "  'a',\n",
       "  'number',\n",
       "  'of',\n",
       "  'members',\n",
       "  'have',\n",
       "  'requested,',\n",
       "  'on',\n",
       "  'behalf',\n",
       "  'of',\n",
       "  'all',\n",
       "  'the',\n",
       "  'victims',\n",
       "  'concerned,',\n",
       "  'particularly',\n",
       "  'those',\n",
       "  'of',\n",
       "  'the',\n",
       "  'terrible',\n",
       "  'storms,',\n",
       "  'in',\n",
       "  'the',\n",
       "  'various',\n",
       "  'countries',\n",
       "  'of',\n",
       "  'the',\n",
       "  'european',\n",
       "  'union.'],\n",
       " ['please', 'rise,', 'then,', 'for', 'this', \"minute'\", 's', 'silence.'],\n",
       " ['(the', 'house', 'rose', 'and', 'observed', 'a', \"minute'\", 's', 'silence)'],\n",
       " ['madam', 'president,', 'on', 'a', 'point', 'of', 'order.'],\n",
       " ['you',\n",
       "  'will',\n",
       "  'be',\n",
       "  'aware',\n",
       "  'from',\n",
       "  'the',\n",
       "  'press',\n",
       "  'and',\n",
       "  'television',\n",
       "  'that',\n",
       "  'there',\n",
       "  'have',\n",
       "  'been',\n",
       "  'a',\n",
       "  'number',\n",
       "  'of',\n",
       "  'bomb',\n",
       "  'explosions',\n",
       "  'and',\n",
       "  'killings',\n",
       "  'in',\n",
       "  'sri',\n",
       "  'lanka.'],\n",
       " ['one',\n",
       "  'of',\n",
       "  'the',\n",
       "  'people',\n",
       "  'assassinated',\n",
       "  'very',\n",
       "  'recently',\n",
       "  'in',\n",
       "  'sri',\n",
       "  'lanka',\n",
       "  'was',\n",
       "  'mr',\n",
       "  'kumar',\n",
       "  'ponnambalam,',\n",
       "  'who',\n",
       "  'had',\n",
       "  'visited',\n",
       "  'the',\n",
       "  'european',\n",
       "  'parliament',\n",
       "  'just',\n",
       "  'a',\n",
       "  'few',\n",
       "  'months',\n",
       "  'ago.']]"
      ]
     },
     "execution_count": 74,
     "metadata": {},
     "output_type": "execute_result"
    }
   ],
   "source": [
    "textEn1 = textEn.map(TokentoLowerCase)\n",
    "textSv1 = textSv.map(TokentoLowerCase)\n",
    "textEn1.take(10)"
   ]
  },
  {
   "cell_type": "code",
   "execution_count": 75,
   "metadata": {
    "collapsed": true
   },
   "outputs": [
    {
     "data": {
      "text/plain": [
       "[['återupptagande', 'av', 'sessionen'],\n",
       " ['jag',\n",
       "  'förklarar',\n",
       "  'europaparlamentets',\n",
       "  'session',\n",
       "  'återupptagen',\n",
       "  'efter',\n",
       "  'avbrottet',\n",
       "  'den',\n",
       "  '17',\n",
       "  'december.',\n",
       "  'jag',\n",
       "  'vill',\n",
       "  'på',\n",
       "  'nytt',\n",
       "  'önska',\n",
       "  'er',\n",
       "  'ett',\n",
       "  'gott',\n",
       "  'nytt',\n",
       "  'år',\n",
       "  'och',\n",
       "  'jag',\n",
       "  'hoppas',\n",
       "  'att',\n",
       "  'ni',\n",
       "  'haft',\n",
       "  'en',\n",
       "  'trevlig',\n",
       "  'semester.'],\n",
       " ['som',\n",
       "  'ni',\n",
       "  'kunnat',\n",
       "  'konstatera',\n",
       "  'ägde',\n",
       "  '\"den',\n",
       "  'stora',\n",
       "  'år',\n",
       "  '2000-buggen\"',\n",
       "  'aldrig',\n",
       "  'rum.',\n",
       "  'däremot',\n",
       "  'har',\n",
       "  'invånarna',\n",
       "  'i',\n",
       "  'ett',\n",
       "  'antal',\n",
       "  'av',\n",
       "  'våra',\n",
       "  'medlemsländer',\n",
       "  'drabbats',\n",
       "  'av',\n",
       "  'naturkatastrofer',\n",
       "  'som',\n",
       "  'verkligen',\n",
       "  'varit',\n",
       "  'förskräckliga.'],\n",
       " ['ni',\n",
       "  'har',\n",
       "  'begärt',\n",
       "  'en',\n",
       "  'debatt',\n",
       "  'i',\n",
       "  'ämnet',\n",
       "  'under',\n",
       "  'sammanträdesperiodens',\n",
       "  'kommande',\n",
       "  'dagar.'],\n",
       " ['till',\n",
       "  'dess',\n",
       "  'vill',\n",
       "  'jag',\n",
       "  'att',\n",
       "  'vi,',\n",
       "  'som',\n",
       "  'ett',\n",
       "  'antal',\n",
       "  'kolleger',\n",
       "  'begärt,',\n",
       "  'håller',\n",
       "  'en',\n",
       "  'tyst',\n",
       "  'minut',\n",
       "  'för',\n",
       "  'offren',\n",
       "  'för',\n",
       "  'bl.a.',\n",
       "  'stormarna',\n",
       "  'i',\n",
       "  'de',\n",
       "  'länder',\n",
       "  'i',\n",
       "  'europeiska',\n",
       "  'unionen',\n",
       "  'som',\n",
       "  'drabbats.'],\n",
       " ['jag', 'ber', 'er', 'resa', 'er', 'för', 'en', 'tyst', 'minut.'],\n",
       " ['(parlamentet', 'höll', 'en', 'tyst', 'minut.)'],\n",
       " ['fru', 'talman!', 'det', 'gäller', 'en', 'ordningsfråga.'],\n",
       " ['ni',\n",
       "  'känner',\n",
       "  'till',\n",
       "  'från',\n",
       "  'media',\n",
       "  'att',\n",
       "  'det',\n",
       "  'skett',\n",
       "  'en',\n",
       "  'rad',\n",
       "  'bombexplosioner',\n",
       "  'och',\n",
       "  'mord',\n",
       "  'i',\n",
       "  'sri',\n",
       "  'lanka.'],\n",
       " ['en',\n",
       "  'av',\n",
       "  'de',\n",
       "  'personer',\n",
       "  'som',\n",
       "  'mycket',\n",
       "  'nyligen',\n",
       "  'mördades',\n",
       "  'i',\n",
       "  'sri',\n",
       "  'lanka',\n",
       "  'var',\n",
       "  'kumar',\n",
       "  'ponnambalam,',\n",
       "  'som',\n",
       "  'besökte',\n",
       "  'europaparlamentet',\n",
       "  'för',\n",
       "  'bara',\n",
       "  'några',\n",
       "  'månader',\n",
       "  'sedan.']]"
      ]
     },
     "execution_count": 75,
     "metadata": {},
     "output_type": "execute_result"
    }
   ],
   "source": [
    "textSv1.take(10)"
   ]
  },
  {
   "cell_type": "code",
   "execution_count": 76,
   "metadata": {},
   "outputs": [
    {
     "data": {
      "text/plain": [
       "1862234"
      ]
     },
     "metadata": {},
     "output_type": "display_data"
    },
    {
     "data": {
      "text/plain": [
       "1862234"
      ]
     },
     "metadata": {},
     "output_type": "display_data"
    }
   ],
   "source": [
    "display(textEn1.count())\n",
    "display(textSv1.count())"
   ]
  },
  {
   "cell_type": "code",
   "execution_count": 77,
   "metadata": {},
   "outputs": [],
   "source": [
    "def unchange(intext):\n",
    "    return intext\n"
   ]
  },
  {
   "cell_type": "code",
   "execution_count": 78,
   "metadata": {},
   "outputs": [
    {
     "data": {
      "text/plain": [
       "[('the', 3498574),\n",
       " ('of', 1659884),\n",
       " ('to', 1539823),\n",
       " ('and', 1288620),\n",
       " ('in', 1086089),\n",
       " ('that', 797576),\n",
       " ('a', 773812),\n",
       " ('is', 758087),\n",
       " ('for', 534270),\n",
       " ('we', 522879)]"
      ]
     },
     "execution_count": 78,
     "metadata": {},
     "output_type": "execute_result"
    }
   ],
   "source": [
    "textEn2 = textEn1.flatMap(unchange).map(lambda word: (word, 1)).reduceByKey(lambda a, b: a + b)\n",
    "textEn2.takeOrdered(10, key = lambda x: -x[1])"
   ]
  },
  {
   "cell_type": "code",
   "execution_count": 79,
   "metadata": {},
   "outputs": [
    {
     "data": {
      "text/plain": [
       "[('att', 1706309),\n",
       " ('och', 1344895),\n",
       " ('i', 1050989),\n",
       " ('det', 924878),\n",
       " ('som', 913302),\n",
       " ('för', 908703),\n",
       " ('av', 738102),\n",
       " ('är', 694389),\n",
       " ('en', 620347),\n",
       " ('vi', 539808)]"
      ]
     },
     "execution_count": 79,
     "metadata": {},
     "output_type": "execute_result"
    }
   ],
   "source": [
    "textSv2 = textSv1.flatMap(unchange).map(lambda word: (word, 1)).reduceByKey(lambda a, b: a + b)\n",
    "textSv2.takeOrdered(10, key = lambda x: -x[1])"
   ]
  },
  {
   "cell_type": "code",
   "execution_count": 80,
   "metadata": {},
   "outputs": [],
   "source": [
    "EnIndex = textEn1.zipWithIndex()\n",
    "SvIndex = textSv1.zipWithIndex()"
   ]
  },
  {
   "cell_type": "code",
   "execution_count": 81,
   "metadata": {},
   "outputs": [],
   "source": [
    "EnIndex = EnIndex.map(lambda word : (word[1], word[0]))\n",
    "SvIndex = SvIndex.map(lambda word : (word[1], word[0]))"
   ]
  },
  {
   "cell_type": "code",
   "execution_count": 99,
   "metadata": {},
   "outputs": [
    {
     "ename": "KeyboardInterrupt",
     "evalue": "",
     "output_type": "error",
     "traceback": [
      "\u001b[0;31m---------------------------------------------------------------------------\u001b[0m",
      "\u001b[0;31mKeyboardInterrupt\u001b[0m                         Traceback (most recent call last)",
      "\u001b[0;32m<ipython-input-99-5de40bc5e39d>\u001b[0m in \u001b[0;36m<module>\u001b[0;34m()\u001b[0m\n\u001b[0;32m----> 1\u001b[0;31m \u001b[0mdic\u001b[0m \u001b[0;34m=\u001b[0m \u001b[0mEnIndex\u001b[0m\u001b[0;34m.\u001b[0m\u001b[0mjoin\u001b[0m\u001b[0;34m(\u001b[0m\u001b[0mSvIndex\u001b[0m\u001b[0;34m)\u001b[0m\u001b[0;34m.\u001b[0m\u001b[0mcollect\u001b[0m\u001b[0;34m(\u001b[0m\u001b[0;34m)\u001b[0m\u001b[0;34m\u001b[0m\u001b[0;34m\u001b[0m\u001b[0m\n\u001b[0m\u001b[1;32m      2\u001b[0m \u001b[0mdic\u001b[0m\u001b[0;34m.\u001b[0m\u001b[0mtake\u001b[0m\u001b[0;34m(\u001b[0m\u001b[0;36m2\u001b[0m\u001b[0;34m)\u001b[0m\u001b[0;34m\u001b[0m\u001b[0;34m\u001b[0m\u001b[0m\n",
      "\u001b[0;32m/home/ubuntu/.local/lib/python3.6/site-packages/pyspark/rdd.py\u001b[0m in \u001b[0;36mcollect\u001b[0;34m(self)\u001b[0m\n\u001b[1;32m    814\u001b[0m         \"\"\"\n\u001b[1;32m    815\u001b[0m         \u001b[0;32mwith\u001b[0m \u001b[0mSCCallSiteSync\u001b[0m\u001b[0;34m(\u001b[0m\u001b[0mself\u001b[0m\u001b[0;34m.\u001b[0m\u001b[0mcontext\u001b[0m\u001b[0;34m)\u001b[0m \u001b[0;32mas\u001b[0m \u001b[0mcss\u001b[0m\u001b[0;34m:\u001b[0m\u001b[0;34m\u001b[0m\u001b[0;34m\u001b[0m\u001b[0m\n\u001b[0;32m--> 816\u001b[0;31m             \u001b[0msock_info\u001b[0m \u001b[0;34m=\u001b[0m \u001b[0mself\u001b[0m\u001b[0;34m.\u001b[0m\u001b[0mctx\u001b[0m\u001b[0;34m.\u001b[0m\u001b[0m_jvm\u001b[0m\u001b[0;34m.\u001b[0m\u001b[0mPythonRDD\u001b[0m\u001b[0;34m.\u001b[0m\u001b[0mcollectAndServe\u001b[0m\u001b[0;34m(\u001b[0m\u001b[0mself\u001b[0m\u001b[0;34m.\u001b[0m\u001b[0m_jrdd\u001b[0m\u001b[0;34m.\u001b[0m\u001b[0mrdd\u001b[0m\u001b[0;34m(\u001b[0m\u001b[0;34m)\u001b[0m\u001b[0;34m)\u001b[0m\u001b[0;34m\u001b[0m\u001b[0;34m\u001b[0m\u001b[0m\n\u001b[0m\u001b[1;32m    817\u001b[0m         \u001b[0;32mreturn\u001b[0m \u001b[0mlist\u001b[0m\u001b[0;34m(\u001b[0m\u001b[0m_load_from_socket\u001b[0m\u001b[0;34m(\u001b[0m\u001b[0msock_info\u001b[0m\u001b[0;34m,\u001b[0m \u001b[0mself\u001b[0m\u001b[0;34m.\u001b[0m\u001b[0m_jrdd_deserializer\u001b[0m\u001b[0;34m)\u001b[0m\u001b[0;34m)\u001b[0m\u001b[0;34m\u001b[0m\u001b[0;34m\u001b[0m\u001b[0m\n\u001b[1;32m    818\u001b[0m \u001b[0;34m\u001b[0m\u001b[0m\n",
      "\u001b[0;32m/home/ubuntu/.local/lib/python3.6/site-packages/py4j/java_gateway.py\u001b[0m in \u001b[0;36m__call__\u001b[0;34m(self, *args)\u001b[0m\n\u001b[1;32m   1253\u001b[0m             \u001b[0mproto\u001b[0m\u001b[0;34m.\u001b[0m\u001b[0mEND_COMMAND_PART\u001b[0m\u001b[0;34m\u001b[0m\u001b[0;34m\u001b[0m\u001b[0m\n\u001b[1;32m   1254\u001b[0m \u001b[0;34m\u001b[0m\u001b[0m\n\u001b[0;32m-> 1255\u001b[0;31m         \u001b[0manswer\u001b[0m \u001b[0;34m=\u001b[0m \u001b[0mself\u001b[0m\u001b[0;34m.\u001b[0m\u001b[0mgateway_client\u001b[0m\u001b[0;34m.\u001b[0m\u001b[0msend_command\u001b[0m\u001b[0;34m(\u001b[0m\u001b[0mcommand\u001b[0m\u001b[0;34m)\u001b[0m\u001b[0;34m\u001b[0m\u001b[0;34m\u001b[0m\u001b[0m\n\u001b[0m\u001b[1;32m   1256\u001b[0m         return_value = get_return_value(\n\u001b[1;32m   1257\u001b[0m             answer, self.gateway_client, self.target_id, self.name)\n",
      "\u001b[0;32m/home/ubuntu/.local/lib/python3.6/site-packages/py4j/java_gateway.py\u001b[0m in \u001b[0;36msend_command\u001b[0;34m(self, command, retry, binary)\u001b[0m\n\u001b[1;32m    983\u001b[0m         \u001b[0mconnection\u001b[0m \u001b[0;34m=\u001b[0m \u001b[0mself\u001b[0m\u001b[0;34m.\u001b[0m\u001b[0m_get_connection\u001b[0m\u001b[0;34m(\u001b[0m\u001b[0;34m)\u001b[0m\u001b[0;34m\u001b[0m\u001b[0;34m\u001b[0m\u001b[0m\n\u001b[1;32m    984\u001b[0m         \u001b[0;32mtry\u001b[0m\u001b[0;34m:\u001b[0m\u001b[0;34m\u001b[0m\u001b[0;34m\u001b[0m\u001b[0m\n\u001b[0;32m--> 985\u001b[0;31m             \u001b[0mresponse\u001b[0m \u001b[0;34m=\u001b[0m \u001b[0mconnection\u001b[0m\u001b[0;34m.\u001b[0m\u001b[0msend_command\u001b[0m\u001b[0;34m(\u001b[0m\u001b[0mcommand\u001b[0m\u001b[0;34m)\u001b[0m\u001b[0;34m\u001b[0m\u001b[0;34m\u001b[0m\u001b[0m\n\u001b[0m\u001b[1;32m    986\u001b[0m             \u001b[0;32mif\u001b[0m \u001b[0mbinary\u001b[0m\u001b[0;34m:\u001b[0m\u001b[0;34m\u001b[0m\u001b[0;34m\u001b[0m\u001b[0m\n\u001b[1;32m    987\u001b[0m                 \u001b[0;32mreturn\u001b[0m \u001b[0mresponse\u001b[0m\u001b[0;34m,\u001b[0m \u001b[0mself\u001b[0m\u001b[0;34m.\u001b[0m\u001b[0m_create_connection_guard\u001b[0m\u001b[0;34m(\u001b[0m\u001b[0mconnection\u001b[0m\u001b[0;34m)\u001b[0m\u001b[0;34m\u001b[0m\u001b[0;34m\u001b[0m\u001b[0m\n",
      "\u001b[0;32m/home/ubuntu/.local/lib/python3.6/site-packages/py4j/java_gateway.py\u001b[0m in \u001b[0;36msend_command\u001b[0;34m(self, command)\u001b[0m\n\u001b[1;32m   1150\u001b[0m \u001b[0;34m\u001b[0m\u001b[0m\n\u001b[1;32m   1151\u001b[0m         \u001b[0;32mtry\u001b[0m\u001b[0;34m:\u001b[0m\u001b[0;34m\u001b[0m\u001b[0;34m\u001b[0m\u001b[0m\n\u001b[0;32m-> 1152\u001b[0;31m             \u001b[0manswer\u001b[0m \u001b[0;34m=\u001b[0m \u001b[0msmart_decode\u001b[0m\u001b[0;34m(\u001b[0m\u001b[0mself\u001b[0m\u001b[0;34m.\u001b[0m\u001b[0mstream\u001b[0m\u001b[0;34m.\u001b[0m\u001b[0mreadline\u001b[0m\u001b[0;34m(\u001b[0m\u001b[0;34m)\u001b[0m\u001b[0;34m[\u001b[0m\u001b[0;34m:\u001b[0m\u001b[0;34m-\u001b[0m\u001b[0;36m1\u001b[0m\u001b[0;34m]\u001b[0m\u001b[0;34m)\u001b[0m\u001b[0;34m\u001b[0m\u001b[0;34m\u001b[0m\u001b[0m\n\u001b[0m\u001b[1;32m   1153\u001b[0m             \u001b[0mlogger\u001b[0m\u001b[0;34m.\u001b[0m\u001b[0mdebug\u001b[0m\u001b[0;34m(\u001b[0m\u001b[0;34m\"Answer received: {0}\"\u001b[0m\u001b[0;34m.\u001b[0m\u001b[0mformat\u001b[0m\u001b[0;34m(\u001b[0m\u001b[0manswer\u001b[0m\u001b[0;34m)\u001b[0m\u001b[0;34m)\u001b[0m\u001b[0;34m\u001b[0m\u001b[0;34m\u001b[0m\u001b[0m\n\u001b[1;32m   1154\u001b[0m             \u001b[0;32mif\u001b[0m \u001b[0manswer\u001b[0m\u001b[0;34m.\u001b[0m\u001b[0mstartswith\u001b[0m\u001b[0;34m(\u001b[0m\u001b[0mproto\u001b[0m\u001b[0;34m.\u001b[0m\u001b[0mRETURN_MESSAGE\u001b[0m\u001b[0;34m)\u001b[0m\u001b[0;34m:\u001b[0m\u001b[0;34m\u001b[0m\u001b[0;34m\u001b[0m\u001b[0m\n",
      "\u001b[0;32m/usr/lib/python3.6/socket.py\u001b[0m in \u001b[0;36mreadinto\u001b[0;34m(self, b)\u001b[0m\n\u001b[1;32m    584\u001b[0m         \u001b[0;32mwhile\u001b[0m \u001b[0;32mTrue\u001b[0m\u001b[0;34m:\u001b[0m\u001b[0;34m\u001b[0m\u001b[0;34m\u001b[0m\u001b[0m\n\u001b[1;32m    585\u001b[0m             \u001b[0;32mtry\u001b[0m\u001b[0;34m:\u001b[0m\u001b[0;34m\u001b[0m\u001b[0;34m\u001b[0m\u001b[0m\n\u001b[0;32m--> 586\u001b[0;31m                 \u001b[0;32mreturn\u001b[0m \u001b[0mself\u001b[0m\u001b[0;34m.\u001b[0m\u001b[0m_sock\u001b[0m\u001b[0;34m.\u001b[0m\u001b[0mrecv_into\u001b[0m\u001b[0;34m(\u001b[0m\u001b[0mb\u001b[0m\u001b[0;34m)\u001b[0m\u001b[0;34m\u001b[0m\u001b[0;34m\u001b[0m\u001b[0m\n\u001b[0m\u001b[1;32m    587\u001b[0m             \u001b[0;32mexcept\u001b[0m \u001b[0mtimeout\u001b[0m\u001b[0;34m:\u001b[0m\u001b[0;34m\u001b[0m\u001b[0;34m\u001b[0m\u001b[0m\n\u001b[1;32m    588\u001b[0m                 \u001b[0mself\u001b[0m\u001b[0;34m.\u001b[0m\u001b[0m_timeout_occurred\u001b[0m \u001b[0;34m=\u001b[0m \u001b[0;32mTrue\u001b[0m\u001b[0;34m\u001b[0m\u001b[0;34m\u001b[0m\u001b[0m\n",
      "\u001b[0;31mKeyboardInterrupt\u001b[0m: "
     ]
    }
   ],
   "source": [
    "dic = EnIndex.join(SvIndex).collect()\n",
    "dic.take(2)"
   ]
  },
  {
   "cell_type": "code",
   "execution_count": null,
   "metadata": {},
   "outputs": [],
   "source": [
    "dic.filter(lambda word: word[1] and word[2])"
   ]
  },
  {
   "cell_type": "code",
   "execution_count": null,
   "metadata": {},
   "outputs": [],
   "source": [
    "dic.count()"
   ]
  },
  {
   "cell_type": "code",
   "execution_count": null,
   "metadata": {},
   "outputs": [],
   "source": []
  },
  {
   "cell_type": "code",
   "execution_count": null,
   "metadata": {},
   "outputs": [],
   "source": [
    "# release the cores for another application!\n",
    "#spark_context.stop()"
   ]
  },
  {
   "cell_type": "code",
   "execution_count": null,
   "metadata": {},
   "outputs": [],
   "source": [
    "dic.first()"
   ]
  },
  {
   "cell_type": "code",
   "execution_count": null,
   "metadata": {},
   "outputs": [],
   "source": []
  }
 ],
 "metadata": {
  "kernelspec": {
   "display_name": "Python 3",
   "language": "python",
   "name": "python3"
  },
  "language_info": {
   "codemirror_mode": {
    "name": "ipython",
    "version": 3
   },
   "file_extension": ".py",
   "mimetype": "text/x-python",
   "name": "python",
   "nbconvert_exporter": "python",
   "pygments_lexer": "ipython3",
   "version": "3.6.7"
  }
 },
 "nbformat": 4,
 "nbformat_minor": 2
}
